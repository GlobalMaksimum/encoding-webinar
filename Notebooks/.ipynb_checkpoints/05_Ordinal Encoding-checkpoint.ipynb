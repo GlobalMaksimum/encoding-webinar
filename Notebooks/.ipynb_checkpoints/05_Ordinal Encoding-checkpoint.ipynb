{
 "cells": [
  {
   "cell_type": "code",
   "execution_count": 1,
   "metadata": {},
   "outputs": [],
   "source": [
    "import pandas as pd\n",
    "import numpy as np\n",
    "df = pd.read_csv('data/breast-cancer.csv')"
   ]
  },
  {
   "cell_type": "code",
   "execution_count": 2,
   "metadata": {},
   "outputs": [
    {
     "data": {
      "text/html": [
       "<div>\n",
       "<style scoped>\n",
       "    .dataframe tbody tr th:only-of-type {\n",
       "        vertical-align: middle;\n",
       "    }\n",
       "\n",
       "    .dataframe tbody tr th {\n",
       "        vertical-align: top;\n",
       "    }\n",
       "\n",
       "    .dataframe thead th {\n",
       "        text-align: right;\n",
       "    }\n",
       "</style>\n",
       "<table border=\"1\" class=\"dataframe\">\n",
       "  <thead>\n",
       "    <tr style=\"text-align: right;\">\n",
       "      <th></th>\n",
       "      <th>age</th>\n",
       "      <th>menopause</th>\n",
       "      <th>tumor-size</th>\n",
       "      <th>inv-nodes</th>\n",
       "      <th>node-caps</th>\n",
       "      <th>deg-malig</th>\n",
       "      <th>breast</th>\n",
       "      <th>breast-quad</th>\n",
       "      <th>irradiat</th>\n",
       "      <th>Class</th>\n",
       "    </tr>\n",
       "  </thead>\n",
       "  <tbody>\n",
       "    <tr>\n",
       "      <th>0</th>\n",
       "      <td>40-49</td>\n",
       "      <td>premeno</td>\n",
       "      <td>15-19</td>\n",
       "      <td>0-2</td>\n",
       "      <td>yes</td>\n",
       "      <td>3</td>\n",
       "      <td>right</td>\n",
       "      <td>left_up</td>\n",
       "      <td>no</td>\n",
       "      <td>recurrence-events</td>\n",
       "    </tr>\n",
       "    <tr>\n",
       "      <th>1</th>\n",
       "      <td>50-59</td>\n",
       "      <td>ge40</td>\n",
       "      <td>15-19</td>\n",
       "      <td>0-2</td>\n",
       "      <td>no</td>\n",
       "      <td>1</td>\n",
       "      <td>right</td>\n",
       "      <td>central</td>\n",
       "      <td>no</td>\n",
       "      <td>no-recurrence-events</td>\n",
       "    </tr>\n",
       "    <tr>\n",
       "      <th>2</th>\n",
       "      <td>50-59</td>\n",
       "      <td>ge40</td>\n",
       "      <td>35-39</td>\n",
       "      <td>0-2</td>\n",
       "      <td>no</td>\n",
       "      <td>2</td>\n",
       "      <td>left</td>\n",
       "      <td>left_low</td>\n",
       "      <td>no</td>\n",
       "      <td>recurrence-events</td>\n",
       "    </tr>\n",
       "    <tr>\n",
       "      <th>3</th>\n",
       "      <td>40-49</td>\n",
       "      <td>premeno</td>\n",
       "      <td>35-39</td>\n",
       "      <td>0-2</td>\n",
       "      <td>yes</td>\n",
       "      <td>3</td>\n",
       "      <td>right</td>\n",
       "      <td>left_low</td>\n",
       "      <td>yes</td>\n",
       "      <td>no-recurrence-events</td>\n",
       "    </tr>\n",
       "    <tr>\n",
       "      <th>4</th>\n",
       "      <td>40-49</td>\n",
       "      <td>premeno</td>\n",
       "      <td>30-34</td>\n",
       "      <td>3-5</td>\n",
       "      <td>yes</td>\n",
       "      <td>2</td>\n",
       "      <td>left</td>\n",
       "      <td>right_up</td>\n",
       "      <td>no</td>\n",
       "      <td>recurrence-events</td>\n",
       "    </tr>\n",
       "  </tbody>\n",
       "</table>\n",
       "</div>"
      ],
      "text/plain": [
       "     age menopause tumor-size inv-nodes node-caps  deg-malig breast  \\\n",
       "0  40-49   premeno      15-19       0-2       yes          3  right   \n",
       "1  50-59      ge40      15-19       0-2        no          1  right   \n",
       "2  50-59      ge40      35-39       0-2        no          2   left   \n",
       "3  40-49   premeno      35-39       0-2       yes          3  right   \n",
       "4  40-49   premeno      30-34       3-5       yes          2   left   \n",
       "\n",
       "  breast-quad irradiat                 Class  \n",
       "0     left_up       no     recurrence-events  \n",
       "1     central       no  no-recurrence-events  \n",
       "2    left_low       no     recurrence-events  \n",
       "3    left_low      yes  no-recurrence-events  \n",
       "4    right_up       no     recurrence-events  "
      ]
     },
     "execution_count": 2,
     "metadata": {},
     "output_type": "execute_result"
    }
   ],
   "source": [
    "df.head()"
   ]
  },
  {
   "cell_type": "code",
   "execution_count": 3,
   "metadata": {},
   "outputs": [],
   "source": [
    "tumor_size_unq = df['tumor-size'].unique()"
   ]
  },
  {
   "cell_type": "code",
   "execution_count": 4,
   "metadata": {},
   "outputs": [
    {
     "data": {
      "text/plain": [
       "array(['15-19', '35-39', '30-34', '25-29', '40-44', '10-14', '0-4',\n",
       "       '20-24', '45-49', '50-54', '5-9'], dtype=object)"
      ]
     },
     "execution_count": 4,
     "metadata": {},
     "output_type": "execute_result"
    }
   ],
   "source": [
    "tumor_size_unq"
   ]
  },
  {
   "cell_type": "code",
   "execution_count": 5,
   "metadata": {},
   "outputs": [
    {
     "data": {
      "text/plain": [
       "LabelEncoder()"
      ]
     },
     "execution_count": 5,
     "metadata": {},
     "output_type": "execute_result"
    }
   ],
   "source": [
    "from sklearn.preprocessing import LabelEncoder\n",
    "le = LabelEncoder()\n",
    "\n",
    "le.fit(df['tumor-size'])"
   ]
  },
  {
   "cell_type": "code",
   "execution_count": 6,
   "metadata": {},
   "outputs": [],
   "source": [
    "enc_le = le.fit(df['tumor-size']).transform(tumor_size_unq).reshape(-1,1)"
   ]
  },
  {
   "cell_type": "code",
   "execution_count": 7,
   "metadata": {},
   "outputs": [
    {
     "data": {
      "text/plain": [
       "array([[ 0.,  4.,  3.,  2.,  5.,  1.,  2.,  1.,  6.,  8.,  7.],\n",
       "       [ 4.,  0.,  1.,  2.,  1.,  5.,  6.,  3.,  2.,  4.,  3.],\n",
       "       [ 3.,  1.,  0.,  1.,  2.,  4.,  5.,  2.,  3.,  5.,  4.],\n",
       "       [ 2.,  2.,  1.,  0.,  3.,  3.,  4.,  1.,  4.,  6.,  5.],\n",
       "       [ 5.,  1.,  2.,  3.,  0.,  6.,  7.,  4.,  1.,  3.,  2.],\n",
       "       [ 1.,  5.,  4.,  3.,  6.,  0.,  1.,  2.,  7.,  9.,  8.],\n",
       "       [ 2.,  6.,  5.,  4.,  7.,  1.,  0.,  3.,  8., 10.,  9.],\n",
       "       [ 1.,  3.,  2.,  1.,  4.,  2.,  3.,  0.,  5.,  7.,  6.],\n",
       "       [ 6.,  2.,  3.,  4.,  1.,  7.,  8.,  5.,  0.,  2.,  1.],\n",
       "       [ 8.,  4.,  5.,  6.,  3.,  9., 10.,  7.,  2.,  0.,  1.],\n",
       "       [ 7.,  3.,  4.,  5.,  2.,  8.,  9.,  6.,  1.,  1.,  0.]])"
      ]
     },
     "execution_count": 7,
     "metadata": {},
     "output_type": "execute_result"
    }
   ],
   "source": [
    "from  sklearn.metrics import pairwise_distances\n",
    "pairwise_distances(enc_le.reshape(-1,1))"
   ]
  },
  {
   "cell_type": "markdown",
   "metadata": {},
   "source": [
    "### Problem is deciding mapping based on alphanumeric order\n",
    "How to fix it ?"
   ]
  },
  {
   "cell_type": "code",
   "execution_count": 8,
   "metadata": {},
   "outputs": [],
   "source": [
    "from sklearn.preprocessing import OrdinalEncoder"
   ]
  },
  {
   "cell_type": "code",
   "execution_count": 9,
   "metadata": {},
   "outputs": [],
   "source": [
    "oe = OrdinalEncoder(categories=[['0-4','5-9','10-14','15-19','20-24','25-29','30-34','35-39','40-44', '45-49','50-54']])"
   ]
  },
  {
   "cell_type": "code",
   "execution_count": 10,
   "metadata": {},
   "outputs": [],
   "source": [
    "enc_oe = oe.fit(df[['tumor-size']]).transform(df[['tumor-size']].drop_duplicates()).reshape(-1,1)"
   ]
  },
  {
   "cell_type": "code",
   "execution_count": 11,
   "metadata": {},
   "outputs": [
    {
     "data": {
      "text/plain": [
       "array([[ 0.,  4.,  3.,  2.,  5.,  1.,  3.,  1.,  6.,  7.,  2.],\n",
       "       [ 4.,  0.,  1.,  2.,  1.,  5.,  7.,  3.,  2.,  3.,  6.],\n",
       "       [ 3.,  1.,  0.,  1.,  2.,  4.,  6.,  2.,  3.,  4.,  5.],\n",
       "       [ 2.,  2.,  1.,  0.,  3.,  3.,  5.,  1.,  4.,  5.,  4.],\n",
       "       [ 5.,  1.,  2.,  3.,  0.,  6.,  8.,  4.,  1.,  2.,  7.],\n",
       "       [ 1.,  5.,  4.,  3.,  6.,  0.,  2.,  2.,  7.,  8.,  1.],\n",
       "       [ 3.,  7.,  6.,  5.,  8.,  2.,  0.,  4.,  9., 10.,  1.],\n",
       "       [ 1.,  3.,  2.,  1.,  4.,  2.,  4.,  0.,  5.,  6.,  3.],\n",
       "       [ 6.,  2.,  3.,  4.,  1.,  7.,  9.,  5.,  0.,  1.,  8.],\n",
       "       [ 7.,  3.,  4.,  5.,  2.,  8., 10.,  6.,  1.,  0.,  9.],\n",
       "       [ 2.,  6.,  5.,  4.,  7.,  1.,  1.,  3.,  8.,  9.,  0.]])"
      ]
     },
     "execution_count": 11,
     "metadata": {},
     "output_type": "execute_result"
    }
   ],
   "source": [
    "from  sklearn.metrics import pairwise_distances\n",
    "pairwise_distances(enc_oe)"
   ]
  },
  {
   "cell_type": "code",
   "execution_count": null,
   "metadata": {},
   "outputs": [],
   "source": []
  }
 ],
 "metadata": {
  "kernelspec": {
   "display_name": "Python 3",
   "language": "python",
   "name": "python3"
  },
  "language_info": {
   "codemirror_mode": {
    "name": "ipython",
    "version": 3
   },
   "file_extension": ".py",
   "mimetype": "text/x-python",
   "name": "python",
   "nbconvert_exporter": "python",
   "pygments_lexer": "ipython3",
   "version": "3.7.4"
  }
 },
 "nbformat": 4,
 "nbformat_minor": 4
}
