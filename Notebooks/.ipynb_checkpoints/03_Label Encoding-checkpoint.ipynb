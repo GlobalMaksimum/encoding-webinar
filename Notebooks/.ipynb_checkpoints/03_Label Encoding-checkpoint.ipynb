{
 "cells": [
  {
   "cell_type": "code",
   "execution_count": 1,
   "metadata": {},
   "outputs": [],
   "source": [
    "import pandas as pd\n",
    "\n",
    "df = pd.read_csv('data/breast-cancer.csv')"
   ]
  },
  {
   "cell_type": "markdown",
   "metadata": {},
   "source": [
    "### How to Generalize Dictionary Encoding into N distrinct values ?"
   ]
  },
  {
   "cell_type": "code",
   "execution_count": 2,
   "metadata": {},
   "outputs": [
    {
     "data": {
      "text/plain": [
       "0       left_up\n",
       "1       central\n",
       "2      left_low\n",
       "3      left_low\n",
       "4      right_up\n",
       "         ...   \n",
       "281    left_low\n",
       "282    left_low\n",
       "283    right_up\n",
       "284    left_low\n",
       "285    right_up\n",
       "Name: breast-quad, Length: 286, dtype: object"
      ]
     },
     "execution_count": 2,
     "metadata": {},
     "output_type": "execute_result"
    }
   ],
   "source": [
    "df['breast-quad']"
   ]
  },
  {
   "cell_type": "code",
   "execution_count": 3,
   "metadata": {},
   "outputs": [],
   "source": [
    "df['breast-quad'] =  df['breast-quad'].fillna('unknown')"
   ]
  },
  {
   "cell_type": "code",
   "execution_count": 4,
   "metadata": {},
   "outputs": [
    {
     "data": {
      "text/plain": [
       "array(['left_up', 'central', 'left_low', 'right_up', 'right_low',\n",
       "       'unknown'], dtype=object)"
      ]
     },
     "execution_count": 4,
     "metadata": {},
     "output_type": "execute_result"
    }
   ],
   "source": [
    "df['breast-quad'] .unique()"
   ]
  },
  {
   "cell_type": "markdown",
   "metadata": {},
   "source": [
    "### `sklearn` has a great module for this"
   ]
  },
  {
   "cell_type": "code",
   "execution_count": 5,
   "metadata": {},
   "outputs": [],
   "source": [
    "from sklearn.preprocessing import LabelEncoder"
   ]
  },
  {
   "cell_type": "markdown",
   "metadata": {},
   "source": [
    "![title](images/label.png)"
   ]
  },
  {
   "cell_type": "code",
   "execution_count": 6,
   "metadata": {},
   "outputs": [],
   "source": [
    "le = LabelEncoder()"
   ]
  },
  {
   "cell_type": "code",
   "execution_count": 7,
   "metadata": {},
   "outputs": [
    {
     "data": {
      "text/plain": [
       "array([2, 0, 1, 1, 4, 2, 2, 2, 3, 2, 1, 2, 0, 2, 1, 0, 2, 2, 2, 2, 1, 2,\n",
       "       1, 2, 1, 2, 1, 2, 1, 1, 0, 1, 4, 2, 1, 1, 2, 0, 1, 3, 1, 4, 1, 4,\n",
       "       1, 4, 2, 2, 2, 2, 1, 2, 0, 4, 3, 2, 1, 1, 4, 0, 1, 4, 2, 1, 2, 0,\n",
       "       1, 1, 2, 1, 1, 2, 1, 3, 3, 1, 1, 0, 4, 4, 1, 1, 2, 2, 0, 2, 2, 2,\n",
       "       1, 2, 2, 2, 2, 2, 2, 1, 2, 1, 2, 2, 1, 1, 1, 2, 3, 0, 1, 4, 4, 3,\n",
       "       2, 1, 2, 4, 0, 2, 2, 2, 2, 1, 4, 2, 1, 1, 3, 1, 2, 1, 2, 1, 3, 4,\n",
       "       4, 1, 1, 1, 0, 1, 2, 0, 1, 2, 2, 1, 0, 1, 2, 1, 1, 2, 1, 4, 1, 1,\n",
       "       1, 4, 2, 1, 2, 2, 2, 2, 1, 1, 1, 3, 4, 0, 2, 1, 0, 2, 1, 2, 2, 2,\n",
       "       2, 2, 1, 4, 4, 2, 1, 1, 1, 3, 4, 2, 4, 3, 4, 1, 1, 2, 2, 0, 2, 1,\n",
       "       3, 1, 3, 2, 1, 3, 3, 1, 1, 2, 1, 1, 3, 1, 1, 3, 2, 2, 2, 1, 4, 2,\n",
       "       1, 2, 1, 2, 2, 2, 1, 2, 1, 1, 3, 1, 3, 2, 2, 1, 2, 2, 4, 1, 5, 0,\n",
       "       1, 3, 1, 1, 1, 1, 2, 1, 3, 1, 4, 3, 2, 1, 1, 3, 1, 2, 2, 0, 1, 4,\n",
       "       1, 0, 1, 1, 2, 1, 1, 4, 2, 1, 1, 2, 2, 4, 1, 4, 2, 1, 1, 4, 1, 4])"
      ]
     },
     "execution_count": 7,
     "metadata": {},
     "output_type": "execute_result"
    }
   ],
   "source": [
    "le.fit_transform(df['breast-quad'])"
   ]
  },
  {
   "cell_type": "markdown",
   "metadata": {},
   "source": [
    "### Write into Q & A\n",
    "* What are the potential issues with `LabelEncoder` approach ?"
   ]
  },
  {
   "cell_type": "code",
   "execution_count": null,
   "metadata": {},
   "outputs": [],
   "source": []
  }
 ],
 "metadata": {
  "kernelspec": {
   "display_name": "Python 3",
   "language": "python",
   "name": "python3"
  },
  "language_info": {
   "codemirror_mode": {
    "name": "ipython",
    "version": 3
   },
   "file_extension": ".py",
   "mimetype": "text/x-python",
   "name": "python",
   "nbconvert_exporter": "python",
   "pygments_lexer": "ipython3",
   "version": "3.7.4"
  }
 },
 "nbformat": 4,
 "nbformat_minor": 4
}
